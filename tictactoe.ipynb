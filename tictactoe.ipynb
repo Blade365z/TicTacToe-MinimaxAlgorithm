{
 "cells": [
  {
   "cell_type": "code",
   "execution_count": 2,
   "metadata": {
    "scrolled": true
   },
   "outputs": [
    {
     "name": "stdout",
     "output_type": "stream",
     "text": [
      "['-', '-', '-']\n",
      "['-', '-', '-']\n",
      "['-', '-', '-']\n"
     ]
    }
   ],
   "source": [
    "size=[]\n",
    "moves=[]\n",
    "players=['X','O']\n",
    "\n",
    "for i in range(3):\n",
    "    moves.append(['-','-','-'])\n",
    "   \n",
    "def printbox():\n",
    "    for i in moves:\n",
    "        print(i)\n",
    "\n",
    "movesFlat = []\n",
    "printbox()\n",
    "dictMoves={1:(0,0),2:(0,1),3:(0,2),4:(1,0),5:(1,1),6:(1,2),7:(2,0),8:(2,1),9:(2,2)}"
   ]
  },
  {
   "cell_type": "code",
   "execution_count": 48,
   "metadata": {
    "scrolled": true
   },
   "outputs": [
    {
     "name": "stdout",
     "output_type": "stream",
     "text": [
      "-------------------------\n",
      "PLAYER X\n",
      "Enter Your Move :1\n",
      "-------------------------\n",
      "['X', '-', '-']\n",
      "['-', '-', '-']\n",
      "['-', '-', '-']\n",
      "-------------------------\n",
      "PLAYER O\n",
      "Enter Your Move :2\n",
      "-------------------------\n",
      "['X', 'O', '-']\n",
      "['-', '-', '-']\n",
      "['-', '-', '-']\n",
      "-------------------------\n",
      "PLAYER X\n",
      "Enter Your Move :4\n",
      "-------------------------\n",
      "['X', 'O', '-']\n",
      "['X', '-', '-']\n",
      "['-', '-', '-']\n",
      "-------------------------\n",
      "PLAYER O\n",
      "Enter Your Move :3\n",
      "-------------------------\n",
      "['X', 'O', 'O']\n",
      "['X', '-', '-']\n",
      "['-', '-', '-']\n",
      "-------------------------\n",
      "PLAYER X\n",
      "Enter Your Move :7\n",
      "-------------------------\n",
      "['X', 'O', 'O']\n",
      "['X', '-', '-']\n",
      "['X', '-', '-']\n",
      "Winner is Player :  X\n",
      "GAME OVER!!\n"
     ]
    }
   ],
   "source": [
    "def checkIfWinner(moves,player):\n",
    "        winFlag=0\n",
    "        for i in range(3):\n",
    "            for j in range(3):\n",
    "                if(moves[i][j]==player):\n",
    "                    winFlag=1\n",
    "                elif(moves[j][i]==player):\n",
    "                    winFlag=1\n",
    "            ##TODO::Diagonal Checking Left\n",
    "                else:\n",
    "                    winFlag=0\n",
    "                    break\n",
    "            if(winFlag==1):\n",
    "                print('Winner is Player : ',player)\n",
    "                winFlag=0\n",
    "                return True\n",
    "            else:\n",
    "                return False  \n",
    "        \n",
    "\n",
    "def enterIntoSquares(counter):\n",
    "    print(\"-------------------------\")\n",
    "    print(\"PLAYER\" , players[counter])\n",
    "    move=int(input('Enter Your Move :'))\n",
    "    movesFlat.append(move)\n",
    "    print(\"-------------------------\")\n",
    "            \n",
    "    x,y=dictMoves[move][0],dictMoves[move][1]\n",
    "    \n",
    "    if(moves[x][y]==\"-\"):\n",
    "        moves[x][y]=players[counter]\n",
    "        \n",
    "        return True\n",
    "    else:\n",
    "        print(\"Alerady Occupied!!\")\n",
    "        enterIntoSquares(counter)\n",
    "    \n",
    "  \n",
    "counter = 0\n",
    "while(len(movesFlat)!=9):\n",
    "            if(enterIntoSquares(counter)):\n",
    "                printbox()\n",
    "                if(checkIfWinner(moves,players[counter])):\n",
    "                    print('GAME OVER!!')\n",
    "                    break\n",
    "                counter += 1\n",
    "                if(counter > 1 ):\n",
    "                    counter = 0\n",
    "        \n",
    "                    \n",
    "                \n"
   ]
  },
  {
   "cell_type": "code",
   "execution_count": null,
   "metadata": {},
   "outputs": [],
   "source": []
  },
  {
   "cell_type": "code",
   "execution_count": 105,
   "metadata": {},
   "outputs": [
    {
     "data": {
      "text/plain": [
       "[]"
      ]
     },
     "execution_count": 105,
     "metadata": {},
     "output_type": "execute_result"
    }
   ],
   "source": []
  },
  {
   "cell_type": "code",
   "execution_count": null,
   "metadata": {},
   "outputs": [],
   "source": []
  }
 ],
 "metadata": {
  "kernelspec": {
   "display_name": "Python 3",
   "language": "python",
   "name": "python3"
  },
  "language_info": {
   "codemirror_mode": {
    "name": "ipython",
    "version": 3
   },
   "file_extension": ".py",
   "mimetype": "text/x-python",
   "name": "python",
   "nbconvert_exporter": "python",
   "pygments_lexer": "ipython3",
   "version": "3.5.2"
  }
 },
 "nbformat": 4,
 "nbformat_minor": 2
}
