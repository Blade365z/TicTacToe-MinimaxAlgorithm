{
 "cells": [
  {
   "cell_type": "code",
   "execution_count": 9,
   "metadata": {
    "scrolled": true
   },
   "outputs": [],
   "source": []
  },
  {
   "cell_type": "code",
   "execution_count": null,
   "metadata": {
    "scrolled": false
   },
   "outputs": [
    {
     "name": "stdout",
     "output_type": "stream",
     "text": [
      "Bro Lets Play !! \n",
      "['-', '-', '-']\n",
      "['-', '-', '-']\n",
      "['-', '-', '-']\n",
      "===============\n",
      "PLAYER : X\n"
     ]
    }
   ],
   "source": [
    "import random\n",
    "\n",
    "#Winning Logic for the Game.\n",
    "def checkIfWinner(moves,player):\n",
    "        winFlag=0\n",
    "        j=[int(index) for index in range(len(moves),1)]\n",
    "        for i in range(len(moves)):\n",
    "            if(( moves[i][len(moves)-1]==player) and ( moves[i][len(moves)-2]==player) and \\\n",
    "               ( moves[i][len(moves)-3]==player)):\n",
    "                winFlag=1\n",
    "                print('Player : ' , player , 'Wins!!')\n",
    "                return True\n",
    "            elif(( moves[len(moves)-1][i]==player) and ( moves[len(moves)-2][i]==player) and \\\n",
    "               ( moves[len(moves)-3][i]==player)):\n",
    "                winFlag=1\n",
    "                print('Player : ' , player , 'Wins!!')\n",
    "                return True\n",
    "        if((moves[len(moves)-3][len(moves)-3]==player)and(moves[len(moves)-2][len(moves)-2]==player) and \\\n",
    "            (moves[len(moves)-1][len(moves)-1]==player)):\n",
    "                winFlag=1\n",
    "                print('Player : ' , player , 'Wins!!')\n",
    "                return True\n",
    "        elif((moves[len(moves)-3][len(moves)-1]==player)and(moves[len(moves)-2][len(moves)-2]==player) and \\\n",
    "            (moves[len(moves)-1][len(moves)-3]==player)):\n",
    "                winFlag=1\n",
    "                print('Player : ' , player , 'Wins!!')\n",
    "                return True\n",
    "\n",
    "            \n",
    "#A simple random function to generate moves from CPU            \n",
    "cpumoves = [x for x in range(1,9)]\n",
    "random.shuffle(cpumoves)\n",
    "def cpuMove(array):\n",
    "    for i in cpumoves:\n",
    "        if (i  not in movesFlat):\n",
    "            return int(i)\n",
    "    \n",
    "#A function for input return true if entered successfully else function is again called \n",
    "#if the input place is already occupied\n",
    "def enterIntoSquares(counter):\n",
    "    print(\"===============\")\n",
    "    print(\"PLAYER :\" , players[counter])\n",
    "    if(players[counter]==\"X\"):\n",
    "        move=int(input('Enter Your Move :'))\n",
    "    else:\n",
    "        print(\"CPU thinking ...\")\n",
    "        move = cpuMove(movesFlat)\n",
    "        print(\"CPU's move :\" , move)    \n",
    "    x,y=dictMoves[move][0],dictMoves[move][1]\n",
    "    \n",
    "    \n",
    "    if(moves[x][y]==\"-\"):\n",
    "        moves[x][y]=players[counter]\n",
    "        movesFlat.append(move)\n",
    "        return True\n",
    "    else:\n",
    "        print(\"Alerady Occupied!!\")\n",
    "        enterIntoSquares(counter)\n",
    "\n",
    "    \n",
    "if __name__ ==\"__main__\":\n",
    "    moves=[]\n",
    "    movesFlat = []\n",
    "    players=['X','O']\n",
    "    print(\"Bro Lets Play !! \")\n",
    "    #initializing the boxes\n",
    "    for i in range(3):\n",
    "        moves.append(['-','-','-'])\n",
    "\n",
    "    #function to print the square boxes   \n",
    "    def printbox():\n",
    "        for i in moves:\n",
    "            print(i)\n",
    "    #Array to keep record of the moves\n",
    "    printbox()\n",
    "\n",
    "    #A Dictionary of the x,y points mapped to their respective lebels\n",
    "    dictMoves={1:(0,0),2:(0,1),3:(0,2),4:(1,0),5:(1,1),6:(1,2),7:(2,0),8:(2,1),9:(2,2)}\n",
    "    counter = 0\n",
    "    #Input from the user \n",
    "    while(len(movesFlat)!=9):\n",
    "                if(enterIntoSquares(counter)):\n",
    "                    printbox()\n",
    "                    if(checkIfWinner(moves,players[counter])):\n",
    "                        print('GAME OVER!!')\n",
    "                        break\n",
    "                    counter += 1\n",
    "                    if(counter > 1 ):\n",
    "                        counter = 0\n",
    "                    \n",
    "        \n",
    "                    \n",
    "                \n"
   ]
  },
  {
   "cell_type": "code",
   "execution_count": null,
   "metadata": {},
   "outputs": [],
   "source": []
  },
  {
   "cell_type": "code",
   "execution_count": null,
   "metadata": {},
   "outputs": [],
   "source": []
  },
  {
   "cell_type": "code",
   "execution_count": null,
   "metadata": {},
   "outputs": [],
   "source": []
  }
 ],
 "metadata": {
  "kernelspec": {
   "display_name": "Python 3",
   "language": "python",
   "name": "python3"
  },
  "language_info": {
   "codemirror_mode": {
    "name": "ipython",
    "version": 3
   },
   "file_extension": ".py",
   "mimetype": "text/x-python",
   "name": "python",
   "nbconvert_exporter": "python",
   "pygments_lexer": "ipython3",
   "version": "3.5.2"
  }
 },
 "nbformat": 4,
 "nbformat_minor": 2
}
